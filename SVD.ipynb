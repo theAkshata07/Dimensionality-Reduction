{
  "nbformat": 4,
  "nbformat_minor": 0,
  "metadata": {
    "colab": {
      "name": "SVD.ipynb",
      "provenance": [],
      "collapsed_sections": []
    },
    "kernelspec": {
      "name": "python3",
      "display_name": "Python 3"
    },
    "language_info": {
      "name": "python"
    }
  },
  "cells": [
    {
      "cell_type": "code",
      "execution_count": null,
      "metadata": {
        "colab": {
          "base_uri": "https://localhost:8080/"
        },
        "id": "XlSsnjIlFhEW",
        "outputId": "8e4e55f1-8cc4-4a76-c024-7ea5648c9788"
      },
      "outputs": [
        {
          "output_type": "stream",
          "name": "stdout",
          "text": [
            "\n",
            "(50, 50)\n",
            "(30,)\n",
            "(30, 30)\n",
            "\n",
            "True\n"
          ]
        }
      ],
      "source": [
        "import numpy as np\n",
        "\n",
        "\n",
        "A = np.random.randint(1,100, [50,30])  #random nums betn 1 to 100 as 50 rows and 30 columns\n",
        "U,S,V_t = np.linalg.svd(A)  #linear algebra module\n",
        "print()\n",
        "print(U.shape)   # (50 ,50)  m,m\n",
        "print(S.shape)   # (30,)      n\n",
        "print(V_t.shape) # (30, 30)     n,n                ([[2,3,4]]) ([2,3,4])\n",
        "# construct S for full dimension\n",
        "z = np.zeros((20,30))\n",
        "S = np.concatenate((np.diag(S), z))  #diag- will take only diagonal array from matrix\n",
        "\n",
        "A_compose = np.matmul(U, np.matmul(S,V_t))  # SVD formula: A=U*S*V'\n",
        "\n",
        "print()\n",
        "print(np.allclose(A, A_compose))  # compare the composed matrix (Returns True if two arrays are element-wise equal)"
      ]
    },
    {
      "cell_type": "code",
      "source": [
        "np.random.randint(1,100, [10,4])"
      ],
      "metadata": {
        "colab": {
          "base_uri": "https://localhost:8080/"
        },
        "id": "qO1DskwHGkt4",
        "outputId": "0df8aa58-55fc-43b1-a1ca-751aac0d73b1"
      },
      "execution_count": null,
      "outputs": [
        {
          "output_type": "execute_result",
          "data": {
            "text/plain": [
              "array([[89, 91, 90, 49],\n",
              "       [50, 57, 99, 24],\n",
              "       [ 7, 20, 40, 80],\n",
              "       [21, 50, 30, 15],\n",
              "       [99, 70, 85, 57],\n",
              "       [48, 26, 82, 56],\n",
              "       [88, 37, 20, 42],\n",
              "       [93, 14, 32, 64],\n",
              "       [60, 70, 85, 98],\n",
              "       [97, 68, 21,  8]])"
            ]
          },
          "metadata": {},
          "execution_count": 7
        }
      ]
    },
    {
      "cell_type": "code",
      "source": [
        "np.random.randint(1,100)"
      ],
      "metadata": {
        "colab": {
          "base_uri": "https://localhost:8080/"
        },
        "id": "SD3Q1eFBH6oJ",
        "outputId": "c82b5326-db08-40f6-f129-1da13006a457"
      },
      "execution_count": null,
      "outputs": [
        {
          "output_type": "execute_result",
          "data": {
            "text/plain": [
              "89"
            ]
          },
          "metadata": {},
          "execution_count": 5
        }
      ]
    },
    {
      "cell_type": "code",
      "source": [
        "np.array([1,2,3]).shape"
      ],
      "metadata": {
        "colab": {
          "base_uri": "https://localhost:8080/"
        },
        "id": "VyGyS8DTUAAc",
        "outputId": "79e07f00-21d1-455c-9f68-716af4fe6966"
      },
      "execution_count": null,
      "outputs": [
        {
          "output_type": "execute_result",
          "data": {
            "text/plain": [
              "(3,)"
            ]
          },
          "metadata": {},
          "execution_count": 18
        }
      ]
    },
    {
      "cell_type": "code",
      "source": [
        "np.array([[1,2,3]]).reshape(3,)"
      ],
      "metadata": {
        "colab": {
          "base_uri": "https://localhost:8080/"
        },
        "id": "hu_DA7eBUJqF",
        "outputId": "18533749-a95e-46cc-fbb6-b880f80f96c9"
      },
      "execution_count": null,
      "outputs": [
        {
          "output_type": "execute_result",
          "data": {
            "text/plain": [
              "array([1, 2, 3])"
            ]
          },
          "metadata": {},
          "execution_count": 17
        }
      ]
    },
    {
      "cell_type": "code",
      "source": [
        "#In general, if m>n then we can limit U to have the size m x n and if n > m then we can limit V (or V_t) to have the size m x n. \n",
        "#We can achieve this in numpy by setting svd function parameter full_matrices = “False” as shown below."
      ],
      "metadata": {
        "id": "EKCLNih2F-9e"
      },
      "execution_count": null,
      "outputs": []
    },
    {
      "cell_type": "code",
      "source": [
        "import numpy as np\n",
        "\n",
        "# create a random numpy array\n",
        "A = np.random.randint(1,100, [50,30])\n",
        "U,S,V_t = np.linalg.svd(A, full_matrices=False)\n",
        "print()\n",
        "print(U.shape)   # (50 ,30)\n",
        "print(S.shape)   # (30,)\n",
        "print(V_t.shape) # (30, 30)"
      ],
      "metadata": {
        "colab": {
          "base_uri": "https://localhost:8080/"
        },
        "id": "oHJPXjz4GCiZ",
        "outputId": "1ab859d7-57e4-476e-b3e4-2948fb7ed967"
      },
      "execution_count": null,
      "outputs": [
        {
          "output_type": "stream",
          "name": "stdout",
          "text": [
            "\n",
            "(50, 30)\n",
            "(30,)\n",
            "(30, 30)\n"
          ]
        }
      ]
    },
    {
      "cell_type": "code",
      "source": [
        "import numpy as np\n",
        "from scipy.sparse.linalg import svds\n",
        "#truncated svd\n",
        "# create a random numpy array\n",
        "A = np.random.randint(1,100, [30,20])\n",
        "#convert to the type float\n",
        "A = A.astype(float)     \n",
        "U,S,V_T = svds(A, k=5) #k=no. of diagonal values\n",
        "\n",
        "print(U.shape)     \n",
        "print(S.shape)     \n",
        "print(V_T.shape)   "
      ],
      "metadata": {
        "colab": {
          "base_uri": "https://localhost:8080/"
        },
        "id": "Gwxlz2PzgjPH",
        "outputId": "bb1271e0-47a3-4640-86b4-85f4c8f4ef3f"
      },
      "execution_count": null,
      "outputs": [
        {
          "output_type": "stream",
          "name": "stdout",
          "text": [
            "(30, 5)\n",
            "(5,)\n",
            "(5, 20)\n"
          ]
        }
      ]
    }
  ]
}